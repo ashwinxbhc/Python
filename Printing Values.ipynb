{
 "cells": [
  {
   "cell_type": "markdown",
   "metadata": {},
   "source": [
    "<div class=\"alert alert-block alert-info\"><h3>Printing Values using Place Holders</h3></div>"
   ]
  },
  {
   "cell_type": "markdown",
   "metadata": {},
   "source": [
    "### Formatting using Place Holders\n",
    "Injecting Strings into Print Statements using <code>%s</code> - String Formatting Operator"
   ]
  },
  {
   "cell_type": "code",
   "execution_count": 1,
   "metadata": {},
   "outputs": [
    {
     "name": "stdout",
     "output_type": "stream",
     "text": [
      "I'm going to inject something here\n"
     ]
    }
   ],
   "source": [
    "print(\"I'm going to inject %s here\" %'something')"
   ]
  },
  {
   "cell_type": "code",
   "execution_count": 2,
   "metadata": {},
   "outputs": [
    {
     "name": "stdout",
     "output_type": "stream",
     "text": [
      "I'm going to inject some text here, and more text here\n"
     ]
    }
   ],
   "source": [
    "print(\"I'm going to inject %s text here, and %s text here\" %(\"some\",\"more\"))"
   ]
  },
  {
   "cell_type": "code",
   "execution_count": 3,
   "metadata": {},
   "outputs": [
    {
     "name": "stdout",
     "output_type": "stream",
     "text": [
      "I'm going to inject some text here, and more text here\n"
     ]
    }
   ],
   "source": [
    "x, y = \"some\", \"more\"\n",
    "print(\"I'm going to inject %s text here, and %s text here\" %(x,y))"
   ]
  },
  {
   "cell_type": "markdown",
   "metadata": {},
   "source": [
    "#### Format Conversion Methods\n",
    "Using <code>%r</code> to convert Python Objects into String Literals while printing values"
   ]
  },
  {
   "cell_type": "code",
   "execution_count": 4,
   "metadata": {},
   "outputs": [
    {
     "name": "stdout",
     "output_type": "stream",
     "text": [
      "I'm going to inject something here\n",
      "I'm going to inject 'something' here\n"
     ]
    }
   ],
   "source": [
    "print(\"I'm going to inject %s here\" %'something')\n",
    "print(\"I'm going to inject %r here\" %'something')"
   ]
  },
  {
   "cell_type": "code",
   "execution_count": 5,
   "metadata": {},
   "outputs": [
    {
     "name": "stdout",
     "output_type": "stream",
     "text": [
      "I once caught a fish this \t big\n",
      "I once caught a fish this '\\t big'\n"
     ]
    }
   ],
   "source": [
    "print(\"I once caught a fish this %s\" %'\\t big')\n",
    "print(\"I once caught a fish this %r\" %'\\t big')"
   ]
  },
  {
   "cell_type": "markdown",
   "metadata": {},
   "source": [
    "Using %d to convert String into a Integer"
   ]
  },
  {
   "cell_type": "code",
   "execution_count": 6,
   "metadata": {},
   "outputs": [
    {
     "name": "stdout",
     "output_type": "stream",
     "text": [
      "I wrote 3.75 programs today\n",
      "I wrote 3 programs today\n"
     ]
    }
   ],
   "source": [
    "print(\"I wrote %s programs today\" %3.75)\n",
    "print(\"I wrote %d programs today\" %3.75)"
   ]
  },
  {
   "cell_type": "markdown",
   "metadata": {},
   "source": [
    "##### Padding and Precison of Floating Point Numbers\n",
    "Using <code>%f</code> to format and print Floating Point Numbers"
   ]
  },
  {
   "cell_type": "code",
   "execution_count": 7,
   "metadata": {},
   "outputs": [
    {
     "name": "stdout",
     "output_type": "stream",
     "text": [
      "Floating Point Numbers : 32.46\n",
      "Floating Point Numbers : 32\n"
     ]
    }
   ],
   "source": [
    "print(\"Floating Point Numbers : %5.2f\" %32.456)\n",
    "print(\"Floating Point Numbers : %1.0f\" %32.456)"
   ]
  },
  {
   "cell_type": "code",
   "execution_count": 8,
   "metadata": {},
   "outputs": [
    {
     "name": "stdout",
     "output_type": "stream",
     "text": [
      "Floating Point Numbers :                        36\n",
      "Floating Point Numbers : 35.90887\n",
      "Floating Point Numbers :      32.91\n"
     ]
    }
   ],
   "source": [
    "print(\"Floating Point Numbers : %25.0f\" %35.9088748)\n",
    "print(\"Floating Point Numbers : %1.5f\" %35.9088748)\n",
    "print(\"Floating Point Numbers : %10.2f\" %32.9088748)"
   ]
  },
  {
   "cell_type": "markdown",
   "metadata": {},
   "source": [
    "##### Multiple Format Methods at once"
   ]
  },
  {
   "cell_type": "code",
   "execution_count": 9,
   "metadata": {},
   "outputs": [
    {
     "name": "stdout",
     "output_type": "stream",
     "text": [
      "First : Hi!, Second : 54.909, Third : \"'This is a String Literal'\"\n"
     ]
    }
   ],
   "source": [
    "print(\"First : %s, Second : %5.3f, Third : %r\" %('Hi!',54.90875,\"'This is a String Literal'\"))"
   ]
  },
  {
   "cell_type": "markdown",
   "metadata": {},
   "source": [
    "### Using the .format() method for formatting the Print Statements."
   ]
  },
  {
   "cell_type": "code",
   "execution_count": 10,
   "metadata": {},
   "outputs": [
    {
     "name": "stdout",
     "output_type": "stream",
     "text": [
      "Insert this String\n"
     ]
    }
   ],
   "source": [
    "print('Insert this {}'.format(\"String\"))"
   ]
  },
  {
   "cell_type": "code",
   "execution_count": 11,
   "metadata": {},
   "outputs": [
    {
     "name": "stdout",
     "output_type": "stream",
     "text": [
      "The fox quick brown\n"
     ]
    }
   ],
   "source": [
    "print('The {2} {0} {1}'.format('quick','brown','fox'))"
   ]
  },
  {
   "cell_type": "code",
   "execution_count": 12,
   "metadata": {},
   "outputs": [
    {
     "name": "stdout",
     "output_type": "stream",
     "text": [
      "The quick fox brown\n"
     ]
    }
   ],
   "source": [
    "print('The {a} {c} {b}'.format(a='quick',b='brown',c='fox'))"
   ]
  },
  {
   "cell_type": "code",
   "execution_count": 13,
   "metadata": {},
   "outputs": [
    {
     "name": "stdout",
     "output_type": "stream",
     "text": [
      "A penny saved is penny earned\n",
      "A penny saved is penny earned\n"
     ]
    }
   ],
   "source": [
    "print(\"A %s saved is %s earned\" %('penny','penny'))\n",
    "print(\"A {a} saved is {a} earned\".format(a='penny'))"
   ]
  },
  {
   "cell_type": "markdown",
   "metadata": {},
   "source": [
    "#### Alignment, Padding and Precision with .format()"
   ]
  },
  {
   "cell_type": "code",
   "execution_count": 14,
   "metadata": {},
   "outputs": [
    {
     "name": "stdout",
     "output_type": "stream",
     "text": [
      "Fruit    | Quantity\n",
      "Apples   |   5.0\n",
      "Oranges  |    10\n"
     ]
    }
   ],
   "source": [
    "print(\"{0:8} | {1:7}\".format(\"Fruit\",\"Quantity\"))\n",
    "print(\"{0:8} | {1:5}\".format(\"Apples\",5.))\n",
    "print(\"{0:8} | {1:5}\".format(\"Oranges\",10))"
   ]
  },
  {
   "cell_type": "code",
   "execution_count": 15,
   "metadata": {},
   "outputs": [
    {
     "name": "stdout",
     "output_type": "stream",
     "text": [
      "Left     |  Center  |    Right\n",
      "11       |    22    |       33\n"
     ]
    }
   ],
   "source": [
    "print(\"{0:<8} | {1:^8} | {2:>8}\".format('Left','Center','Right'))\n",
    "print(\"{0:<8} | {1:^8} | {2:>8}\".format(11,22,33))"
   ]
  },
  {
   "cell_type": "code",
   "execution_count": 16,
   "metadata": {},
   "outputs": [
    {
     "name": "stdout",
     "output_type": "stream",
     "text": [
      "Left==== | -Center- | ...Right\n",
      "11====== | ---22--- | ......33\n"
     ]
    }
   ],
   "source": [
    "print(\"{0:=<8} | {1:-^8} | {2:.>8}\".format('Left','Center','Right'))\n",
    "print(\"{0:=<8} | {1:-^8} | {2:.>8}\".format(11,22,33))"
   ]
  },
  {
   "cell_type": "code",
   "execution_count": 17,
   "metadata": {},
   "outputs": [
    {
     "name": "stdout",
     "output_type": "stream",
     "text": [
      "This is my Ten Character, Two point Decimal Number :      56.79\n",
      "This is my Ten Character, Two point Decimal Number :      56.79\n"
     ]
    }
   ],
   "source": [
    "print(\"This is my Ten Character, Two point Decimal Number : %10.2f\" %56.789546)\n",
    "print(\"This is my Ten Character, Two point Decimal Number : {0:10.2f}\".format(56.789546))"
   ]
  },
  {
   "cell_type": "markdown",
   "metadata": {},
   "source": [
    "### Formatted String Literals (f-strings)"
   ]
  },
  {
   "cell_type": "code",
   "execution_count": 18,
   "metadata": {},
   "outputs": [
    {
     "name": "stdout",
     "output_type": "stream",
     "text": [
      "He said his name is Fred\n"
     ]
    }
   ],
   "source": [
    "name = 'Fred'\n",
    "print(f'He said his name is {name}')"
   ]
  },
  {
   "cell_type": "code",
   "execution_count": 19,
   "metadata": {},
   "outputs": [
    {
     "name": "stdout",
     "output_type": "stream",
     "text": [
      "He said his name is 'Fred'\n"
     ]
    }
   ],
   "source": [
    "print(f'He said his name is {name!r}')"
   ]
  },
  {
   "cell_type": "code",
   "execution_count": 20,
   "metadata": {},
   "outputs": [
    {
     "name": "stdout",
     "output_type": "stream",
     "text": [
      "My Ten Character, Four Decimal Number is :    23.4560\n",
      "My Ten Character, Four Decimal Number is :     23.456\n"
     ]
    }
   ],
   "source": [
    "num = 23.456\n",
    "print(\"My Ten Character, Four Decimal Number is : {0:10.4f}\".format(num))\n",
    "print(f\"My Ten Character, Four Decimal Number is : {num:{10}.{8}}\")"
   ]
  },
  {
   "cell_type": "code",
   "execution_count": 21,
   "metadata": {},
   "outputs": [
    {
     "name": "stdout",
     "output_type": "stream",
     "text": [
      "My Ten Character, Four Decimal Number is :    23.4560\n",
      "My Ten Character, Four Decimal Number is :    23.4560\n"
     ]
    }
   ],
   "source": [
    "print(\"My Ten Character, Four Decimal Number is : {0:10.4f}\".format(num))\n",
    "print(f\"My Ten Character, Four Decimal Number is : {num:10.4f}\")"
   ]
  }
 ],
 "metadata": {
  "kernelspec": {
   "display_name": "Python 3",
   "language": "python",
   "name": "python3"
  },
  "language_info": {
   "codemirror_mode": {
    "name": "ipython",
    "version": 3
   },
   "file_extension": ".py",
   "mimetype": "text/x-python",
   "name": "python",
   "nbconvert_exporter": "python",
   "pygments_lexer": "ipython3",
   "version": "3.7.4"
  }
 },
 "nbformat": 4,
 "nbformat_minor": 2
}
