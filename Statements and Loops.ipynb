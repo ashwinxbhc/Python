{
 "cells": [
  {
   "cell_type": "markdown",
   "metadata": {},
   "source": [
    "### <div class = 'alert alert-block alert-info'> If Elif Else Statements </div>"
   ]
  },
  {
   "cell_type": "markdown",
   "metadata": {},
   "source": [
    "#### Syntax \n",
    "<code>if case 1 :\n",
    "    perform action\n",
    "elsif case 2:\n",
    "    perform action2\n",
    "else case 3 :\n",
    "    perform action3 </code>"
   ]
  },
  {
   "cell_type": "code",
   "execution_count": 1,
   "metadata": {},
   "outputs": [
    {
     "name": "stdout",
     "output_type": "stream",
     "text": [
      "The statement is True\n"
     ]
    }
   ],
   "source": [
    "if True :\n",
    "    print(\"The statement is True\")"
   ]
  },
  {
   "cell_type": "code",
   "execution_count": 2,
   "metadata": {},
   "outputs": [
    {
     "name": "stdout",
     "output_type": "stream",
     "text": [
      "The statement is False\n"
     ]
    }
   ],
   "source": [
    "x = False\n",
    "if x  :\n",
    "    print(\"The statement is True\")\n",
    "else :\n",
    "    print(\"The statement is False\")"
   ]
  },
  {
   "cell_type": "markdown",
   "metadata": {},
   "source": [
    "#### Multiple Branches"
   ]
  },
  {
   "cell_type": "code",
   "execution_count": 3,
   "metadata": {},
   "outputs": [
    {
     "name": "stdout",
     "output_type": "stream",
     "text": [
      "Location is set to Bank\n"
     ]
    }
   ],
   "source": [
    "loc = 'Bank'\n",
    "if loc == 'Auto Shop' :\n",
    "    print(\"Location is set to Auto Shop\")\n",
    "elif loc == 'Bank' : \n",
    "    print(\"Location is set to Bank\")\n",
    "else :\n",
    "    print(\"Location is unknown\")"
   ]
  },
  {
   "cell_type": "markdown",
   "metadata": {},
   "source": [
    "### <div class='alert alert-block alert-info'>For Loop </div>"
   ]
  },
  {
   "cell_type": "markdown",
   "metadata": {},
   "source": [
    "#### Syntax \n",
    "<code> for item in object :\n",
    "    statements to do stuff</code>\n",
    "            "
   ]
  },
  {
   "cell_type": "code",
   "execution_count": 4,
   "metadata": {},
   "outputs": [
    {
     "name": "stdout",
     "output_type": "stream",
     "text": [
      "1\n",
      "2\n",
      "3\n",
      "4\n",
      "5\n",
      "6\n",
      "7\n",
      "8\n",
      "9\n"
     ]
    }
   ],
   "source": [
    "#Iterating throough Lists\n",
    "list1 = [1,2,3,4,5,6,7,8,9]\n",
    "for num in list1 :\n",
    "    print(num)"
   ]
  },
  {
   "cell_type": "code",
   "execution_count": 5,
   "metadata": {},
   "outputs": [
    {
     "name": "stdout",
     "output_type": "stream",
     "text": [
      "2\n",
      "4\n",
      "6\n",
      "8\n"
     ]
    }
   ],
   "source": [
    "#Checking for Even Number from the List\n",
    "for num in list1:\n",
    "    if num%2 == 0 :\n",
    "        print(num)"
   ]
  },
  {
   "cell_type": "code",
   "execution_count": 6,
   "metadata": {},
   "outputs": [
    {
     "name": "stdout",
     "output_type": "stream",
     "text": [
      "This is an Odd Number\n",
      "2\n",
      "This is an Odd Number\n",
      "4\n",
      "This is an Odd Number\n",
      "6\n",
      "This is an Odd Number\n",
      "8\n",
      "This is an Odd Number\n"
     ]
    }
   ],
   "source": [
    "#Checking for Even NUmber with if Else\n",
    "for num in list1:\n",
    "    if num%2 == 0 :\n",
    "        print (num)\n",
    "    else :\n",
    "        print (\"This is an Odd Number\")"
   ]
  },
  {
   "cell_type": "code",
   "execution_count": 7,
   "metadata": {},
   "outputs": [
    {
     "name": "stdout",
     "output_type": "stream",
     "text": [
      "45\n"
     ]
    }
   ],
   "source": [
    "#Finding the Sum of all the elements in the List\n",
    "list_sum = 0\n",
    "for num in list1 :\n",
    "    list_sum = list_sum + num\n",
    "print (list_sum)"
   ]
  },
  {
   "cell_type": "code",
   "execution_count": 8,
   "metadata": {},
   "outputs": [
    {
     "name": "stdout",
     "output_type": "stream",
     "text": [
      "T\n",
      "h\n",
      "i\n",
      "s\n",
      " \n",
      "i\n",
      "s\n",
      " \n",
      "a\n",
      " \n",
      "S\n",
      "t\n",
      "r\n",
      "i\n",
      "n\n",
      "g\n"
     ]
    }
   ],
   "source": [
    "#Iterating over a String \n",
    "Element = 'This is a String'\n",
    "for i in Element :\n",
    "    print(i)"
   ]
  },
  {
   "cell_type": "code",
   "execution_count": 9,
   "metadata": {},
   "outputs": [
    {
     "name": "stdout",
     "output_type": "stream",
     "text": [
      "1\n",
      "2\n",
      "3\n",
      "4\n",
      "5\n"
     ]
    }
   ],
   "source": [
    "#Looping over a Tuple\n",
    "tup = (1,2,3,4,5)\n",
    "for i in tup:\n",
    "    print (i)"
   ]
  },
  {
   "cell_type": "code",
   "execution_count": 10,
   "metadata": {},
   "outputs": [],
   "source": [
    "#Tuple Unpacking\n",
    "list2 = [(1,2),(2,3),(3,4)]"
   ]
  },
  {
   "cell_type": "code",
   "execution_count": 11,
   "metadata": {},
   "outputs": [
    {
     "name": "stdout",
     "output_type": "stream",
     "text": [
      "(1, 2)\n",
      "(2, 3)\n",
      "(3, 4)\n"
     ]
    }
   ],
   "source": [
    "for tup in list2:\n",
    "    print(tup)"
   ]
  },
  {
   "cell_type": "code",
   "execution_count": 12,
   "metadata": {},
   "outputs": [
    {
     "name": "stdout",
     "output_type": "stream",
     "text": [
      "1\n",
      "2\n",
      "3\n"
     ]
    }
   ],
   "source": [
    "for (t1,t2) in list2:\n",
    "    print(t1)"
   ]
  },
  {
   "cell_type": "code",
   "execution_count": 13,
   "metadata": {},
   "outputs": [],
   "source": [
    "d = {'k1':1,'k2':2,'k3':3}"
   ]
  },
  {
   "cell_type": "code",
   "execution_count": 14,
   "metadata": {},
   "outputs": [
    {
     "name": "stdout",
     "output_type": "stream",
     "text": [
      "k1\n",
      "k2\n",
      "k3\n"
     ]
    }
   ],
   "source": [
    "for item in d:\n",
    "    print(item)"
   ]
  },
  {
   "cell_type": "code",
   "execution_count": 15,
   "metadata": {},
   "outputs": [
    {
     "name": "stdout",
     "output_type": "stream",
     "text": [
      "k1\n",
      "1\n",
      "k2\n",
      "2\n",
      "k3\n",
      "3\n"
     ]
    }
   ],
   "source": [
    "for k,v in d.items():\n",
    "    print(k)\n",
    "    print(v)"
   ]
  },
  {
   "cell_type": "markdown",
   "metadata": {},
   "source": [
    "### <div class='alert alert-block alert-info'> While Loop </div>"
   ]
  },
  {
   "cell_type": "code",
   "execution_count": 16,
   "metadata": {},
   "outputs": [
    {
     "name": "stdout",
     "output_type": "stream",
     "text": [
      "x is currently 0\n",
      "x is still less than 10, adding 1 to it\n",
      "x is currently 1\n",
      "x is still less than 10, adding 1 to it\n",
      "x is currently 2\n",
      "x is still less than 10, adding 1 to it\n",
      "x is currently 3\n",
      "x is still less than 10, adding 1 to it\n",
      "x is currently 4\n",
      "x is still less than 10, adding 1 to it\n",
      "x is currently 5\n",
      "x is still less than 10, adding 1 to it\n",
      "x is currently 6\n",
      "x is still less than 10, adding 1 to it\n",
      "x is currently 7\n",
      "x is still less than 10, adding 1 to it\n",
      "x is currently 8\n",
      "x is still less than 10, adding 1 to it\n",
      "x is currently 9\n",
      "x is still less than 10, adding 1 to it\n"
     ]
    }
   ],
   "source": [
    "x = 0\n",
    "while x < 10 :\n",
    "    print(\"x is currently\", x)\n",
    "    print('x is still less than 10, adding 1 to it')\n",
    "    x+=1"
   ]
  },
  {
   "cell_type": "code",
   "execution_count": 17,
   "metadata": {},
   "outputs": [
    {
     "name": "stdout",
     "output_type": "stream",
     "text": [
      "x is currently :  0\n",
      "x is still less than 10, adding 1 to it\n",
      "x is currently :  1\n",
      "x is still less than 10, adding 1 to it\n",
      "x is currently :  2\n",
      "x is still less than 10, adding 1 to it\n",
      "x is currently :  3\n",
      "x is still less than 10, adding 1 to it\n",
      "x is currently :  4\n",
      "x is still less than 10, adding 1 to it\n",
      "x is currently :  5\n",
      "x is still less than 10, adding 1 to it\n",
      "x is currently :  6\n",
      "x is still less than 10, adding 1 to it\n",
      "x is currently :  7\n",
      "x is still less than 10, adding 1 to it\n",
      "x is currently :  8\n",
      "x is still less than 10, adding 1 to it\n",
      "x is currently :  9\n",
      "x is still less than 10, adding 1 to it\n",
      "All Done!\n"
     ]
    }
   ],
   "source": [
    "x = 0\n",
    "while x < 10 :\n",
    "    print(\"x is currently : \", x)\n",
    "    print(\"x is still less than 10, adding 1 to it\")\n",
    "    x+=1\n",
    "else :\n",
    "    print(\"All Done!\")"
   ]
  },
  {
   "cell_type": "markdown",
   "metadata": {},
   "source": [
    "#### <code>break</code> and <code>continue</code> Statements"
   ]
  },
  {
   "cell_type": "code",
   "execution_count": 18,
   "metadata": {},
   "outputs": [
    {
     "name": "stdout",
     "output_type": "stream",
     "text": [
      "Current Value of x is :  0\n",
      "Continuing the loop\n",
      "Current Value of x is :  1\n",
      "Continuing the loop\n",
      "Current Value of x is :  2\n",
      "Continuing the loop\n",
      "Current Value of x is :  3\n",
      "Breaking the loop as value of x equals 3\n"
     ]
    }
   ],
   "source": [
    "x = 0\n",
    "while(x<10) :\n",
    "    print(\"Current Value of x is : \" , x)\n",
    "    if(x==3) :\n",
    "        print(\"Breaking the loop as value of x equals 3\")\n",
    "        break\n",
    "    else :\n",
    "        print(\"Continuing the loop\")\n",
    "        x+=1\n",
    "        continue\n",
    "    \n",
    "    \n",
    "    "
   ]
  }
 ],
 "metadata": {
  "kernelspec": {
   "display_name": "Python 3",
   "language": "python",
   "name": "python3"
  },
  "language_info": {
   "codemirror_mode": {
    "name": "ipython",
    "version": 3
   },
   "file_extension": ".py",
   "mimetype": "text/x-python",
   "name": "python",
   "nbconvert_exporter": "python",
   "pygments_lexer": "ipython3",
   "version": "3.7.4"
  }
 },
 "nbformat": 4,
 "nbformat_minor": 2
}
